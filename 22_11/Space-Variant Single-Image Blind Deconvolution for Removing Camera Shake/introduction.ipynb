{
 "cells": [
  {
   "cell_type": "markdown",
   "metadata": {},
   "source": [
    "# abstract\n",
    "+ 对相机抖动导致的模型进行综述\n",
    "+ 建立一个盲去卷积的方法解决空间移动卷积，基于两项工作。\n",
    "+ 我们提出了一种用于评估的实验设置，它允许我们拍摄具有真实相机抖动的图像，同时记录与该模糊相对应的空间变化点扩散函数"
   ]
  },
  {
   "cell_type": "markdown",
   "metadata": {},
   "source": [
    "+ 文中提及的工作是什么？\n",
    "  + Efficient filter flow for space-variant multiframe blind deconvolution\n",
    "  + Fast Motion Deblurring\n",
    "  + Fast Image Deconvolution using Hyper-Laplacian Priors\n",
    "+ 上面是PSFs(点扩散函数)?\n",
    "\n",
    "PSF是Point Spread Function，点扩散函数，即点光源经过系统后形成的光斑。即便是没有像差的理想系统，由于孔径带来的衍射因素，点光源也不能汇聚成一个无穷小的点，只能“散成一滩”PSF。\n",
    "\n",
    "如何理解？\n",
    "<img src=asset/psf.png>"
   ]
  },
  {
   "cell_type": "markdown",
   "metadata": {},
   "source": [
    "# 相机抖动综述\n",
    "\n",
    "相机抖动可以从两方向描述：(1)PSF如何随图像而变化，即如何在传感器上的不同位置记录点源.(2)相机运动轨迹和景深如何变化。\n",
    "\n",
    "作者接下来的讨论前提假设：场景是静止的仅仅相机在运动，并且场景内没有物体。\n",
    "\n",
    "## 整图的PSF变化\n",
    "+ 静止：PSF在整个图像中保持不变。在这种情况下，线性变换是一个卷积矩阵。大多数盲反卷积算法都仅限于这种情况。\n",
    "+ 平滑：PSF在整张图像是平滑变化(如何理解平滑？)。在这里，线性变换不再是卷积矩阵，我们需要更通用的框架，例如Efficient filter flow for space-variant multiframe blind deconvolution\n",
    "+ 分割：PSF在分割区域内是平滑变化，但是在区域之间却相差很多。\n",
    "\n",
    "## 整图的景深\n",
    "+ 常数：所有对象与相机的距离相同。\n",
    "+ 平滑：到相机的距离在整个场景中平滑变化。示例：以角度拍照墙。\n",
    "+ 分割：场景可以分为不同的对象，每个对象与相机的距离不同。\n",
    "\n",
    "## 相机的轨迹\n",
    "相机的运动可以用具有三个空间坐标和三个角度坐标的六维轨迹来表示。\n",
    "\n",
    "描绘不同轨迹以对应于不同深度情况下的不同PSF变化是有益的。\n",
    "\n",
    "考虑以下轨迹：\n",
    " + 纯移动：相机在没有旋转的情况下在传感器平面上移动。\n",
    " + 旋转移动：移动过程中添加旋转。\n",
    " + 与物体间距改变：接近或远离物体\n",
    " + 仅倾斜：摄像机向上倾斜、向下倾斜，左右倾斜\n",
    " + 所有情况都会发生\n",
    "\n",
    "结合景深和相机轨迹，那么有以下几种情况\n",
    "<img src=asset/table1.png>\n"
   ]
  },
  {
   "cell_type": "markdown",
   "metadata": {},
   "source": [
    "# 平滑变化的PSF作为高效滤波器\n"
   ]
  }
 ],
 "metadata": {
  "kernelspec": {
   "display_name": "Python 3.8.13 ('pytorch')",
   "language": "python",
   "name": "python3"
  },
  "language_info": {
   "name": "python",
   "version": "3.8.13"
  },
  "orig_nbformat": 4,
  "vscode": {
   "interpreter": {
    "hash": "030c80840b0d9f5db79d93d54f37f04cee5e760b761780c141ee4f016f609d74"
   }
  }
 },
 "nbformat": 4,
 "nbformat_minor": 2
}
