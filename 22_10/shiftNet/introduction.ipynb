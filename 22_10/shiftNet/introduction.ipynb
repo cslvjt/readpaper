{
 "cells": [
  {
   "cell_type": "markdown",
   "metadata": {},
   "source": [
    "# shiftConv\n",
    "<img src=./img/shiftConv.drawio.png>"
   ]
  },
  {
   "cell_type": "code",
   "execution_count": null,
   "metadata": {},
   "outputs": [],
   "source": [
    "class ShiftConv2d(nn.Module):\n",
    "    def __init__(self, inp_channels, out_channels):\n",
    "        super(ShiftConv2d, self).__init__()    \n",
    "        self.inp_channels = inp_channels\n",
    "        self.out_channels = out_channels\n",
    "        \n",
    "        ##！！！kernel weight\n",
    "        #### 注意看pytorch文档\n",
    "        # weight-filter of shape(out_channel,in_channels/groups,kernel_H,kernel_W)\n",
    "        self.weight = nn.Parameter(torch.zeros(inp_channels, 1, 3, 3), requires_grad=False)\n",
    "        self.n_div = 5\n",
    "        g = inp_channels // self.n_div\n",
    "        self.weight[0*g:1*g, 0, 1, 2] = 1.0 ## left\n",
    "        self.weight[1*g:2*g, 0, 1, 0] = 1.0 ## right\n",
    "        self.weight[2*g:3*g, 0, 2, 1] = 1.0 ## up\n",
    "        self.weight[3*g:4*g, 0, 0, 1] = 1.0 ## down\n",
    "        self.weight[4*g:, 0, 1, 1] = 1.0 ## identity     \n",
    "\n",
    "        self.conv1x1 = nn.Conv2d(inp_channels, out_channels, 1)\n",
    "\n",
    "    def forward(self, x):\n",
    "        y = F.conv2d(input=x, weight=self.weight, bias=None, stride=1, padding=1, groups=self.inp_channels)\n",
    "        y = self.conv1x1(y) \n",
    "        return y"
   ]
  },
  {
   "cell_type": "markdown",
   "metadata": {},
   "source": [
    "# 不同方向的shiftConv结果"
   ]
  }
 ],
 "metadata": {
  "kernelspec": {
   "display_name": "Python 3.7.13 ('pytorch')",
   "language": "python",
   "name": "python3"
  },
  "language_info": {
   "name": "python",
   "version": "3.7.13"
  },
  "orig_nbformat": 4,
  "vscode": {
   "interpreter": {
    "hash": "9116fc67e4256ae2032cd97a5d43eaf97776cee9d03cd8e1c3e900c0daf90596"
   }
  }
 },
 "nbformat": 4,
 "nbformat_minor": 2
}
