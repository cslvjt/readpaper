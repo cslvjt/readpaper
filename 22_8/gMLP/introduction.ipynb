{
 "cells": [
  {
   "cell_type": "markdown",
   "metadata": {},
   "source": [
    "# references\n",
    "+ https://zhuanlan.zhihu.com/p/388546753\n",
    "+ (code)[https://github.com/liuruiyang98/Jittor-MLP]"
   ]
  },
  {
   "cell_type": "markdown",
   "metadata": {},
   "source": [
    "# block"
   ]
  },
  {
   "cell_type": "markdown",
   "metadata": {},
   "source": [
    "<div align=center>\n",
    "<img src=.\\img\\1.png width=\"40%\"/>\n",
    "</div>"
   ]
  },
  {
   "cell_type": "code",
   "execution_count": null,
   "metadata": {},
   "outputs": [],
   "source": [
    "class SpatialGatingUnit(nn.Module):\n",
    "    def __init__(self, d_ffn, seq_len):\n",
    "        super().__init__()\n",
    "        self.norm = nn.LayerNorm(d_ffn)\n",
    "        self.spatial_proj = nn.Conv1d(seq_len, seq_len, kernel_size=1)\n",
    "        nn.init.constant_(self.spatial_proj.bias, 1.0)\n",
    "\n",
    "    def forward(self, x):\n",
    "        u, v = x.chunk(2, dim=-1)\n",
    "        v = self.norm(v)\n",
    "        v = self.spatial_proj(v)\n",
    "        out = u * v\n",
    "        return out\n",
    "\n",
    "class gMLPBlock(nn.Module):\n",
    "    def __init__(self, d_model, d_ffn, seq_len):\n",
    "        super().__init__()\n",
    "        self.norm = nn.LayerNorm(d_model)\n",
    "        self.channel_proj1 = nn.Linear(d_model, d_ffn * 2)\n",
    "        self.channel_proj2 = nn.Linear(d_ffn, d_model)\n",
    "        self.sgu = SpatialGatingUnit(d_ffn, seq_len)\n",
    "\n",
    "    def forward(self, x):\n",
    "        residual = x\n",
    "        x = self.norm(x)\n",
    "        x = F.gelu(self.channel_proj1(x))\n",
    "        x = self.sgu(x)\n",
    "        x = self.channel_proj2(x)\n",
    "        out = x + residual\n",
    "        return out"
   ]
  },
  {
   "cell_type": "markdown",
   "metadata": {},
   "source": [
    "# model\n",
    "模型由n个gMLP block组成"
   ]
  },
  {
   "cell_type": "code",
   "execution_count": null,
   "metadata": {},
   "outputs": [],
   "source": [
    "class gMLP(nn.Module):\n",
    "    def __init__(self, d_model=256, d_ffn=1536, seq_len=256, depth=30):\n",
    "        super().__init__()\n",
    "        self.model = nn.Sequential(\n",
    "            *[gMLPBlock(d_model, d_ffn, seq_len) for _ in range(depth)]\n",
    "        )\n",
    "\n",
    "    def forward(self, x):\n",
    "        return self.model(x)\n",
    "\n",
    "\n",
    "class gMLPForImageClassification(gMLP):\n",
    "    def __init__(\n",
    "        self,\n",
    "        image_size=256,\n",
    "        patch_size=16,\n",
    "        in_channels=3,\n",
    "        num_classes=1000,\n",
    "        d_model=256,\n",
    "        d_ffn=1536,\n",
    "        depth=30,\n",
    "    ):\n",
    "        num_patches = check_sizes(image_size, patch_size)\n",
    "        super().__init__(d_model, d_ffn, num_patches, depth)\n",
    "        self.patcher = nn.Sequential(\n",
    "            nn.Conv2d(in_channels, d_model, kernel_size=patch_size, stride=patch_size)\n",
    "        )\n",
    "\n",
    "        self.mlp_head = nn.Sequential(\n",
    "            nn.Linear(d_model, num_classes)\n",
    "        )\n",
    "\n",
    "    def forward(self, x):\n",
    "        patches = self.patcher(x)\n",
    "        batch_size, num_channels, _, _ = patches.shape\n",
    "        patches = patches.permute(0, 2, 3, 1)\n",
    "        patches = patches.view(batch_size, -1, num_channels)\n",
    "        embedding = self.model(patches)\n",
    "        embedding = embedding.mean(dim=1)\n",
    "        out = self.mlp_head(embedding)\n",
    "        return "
   ]
  }
 ],
 "metadata": {
  "kernelspec": {
   "display_name": "Python 3.6.2 ('pytorch')",
   "language": "python",
   "name": "python3"
  },
  "language_info": {
   "name": "python",
   "version": "3.6.2"
  },
  "orig_nbformat": 4,
  "vscode": {
   "interpreter": {
    "hash": "1be8e1e697be24aa51be46f7515f4d96c6005120fc689094ce96895b044c9b1b"
   }
  }
 },
 "nbformat": 4,
 "nbformat_minor": 2
}
